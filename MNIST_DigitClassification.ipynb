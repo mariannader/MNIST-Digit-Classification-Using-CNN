{
  "cells": [
    {
      "cell_type": "code",
      "execution_count": null,
      "metadata": {
        "id": "owlzgtcTDtZc"
      },
      "outputs": [],
      "source": [
        "# MNIST digit classification using CNN.\n",
        "#  To load the dataset please use this command (keras.datasets.mnist.load_data())."
      ]
    },
    {
      "cell_type": "code",
      "execution_count": 11,
      "metadata": {
        "id": "hZtwnWdC1LB0"
      },
      "outputs": [],
      "source": [
        "from keras.datasets import mnist\n",
        "from keras.models import Sequential\n",
        "from keras.layers import Conv2D, MaxPooling2D, Flatten, Dense\n"
      ]
    },
    {
      "cell_type": "code",
      "execution_count": 12,
      "metadata": {
        "id": "zqQ3wdwz1iM9"
      },
      "outputs": [],
      "source": [
        "import keras\n",
        "import keras.utils\n",
        "from keras import utils as np_utils"
      ]
    },
    {
      "cell_type": "code",
      "execution_count": 13,
      "metadata": {
        "id": "S6I0TfXg1O7X"
      },
      "outputs": [],
      "source": [
        "(x_train, y_train), (x_test, y_test) = mnist.load_data()\n",
        "\n",
        "# Reshape the data to have single channel (gray scale)\n",
        "x_train = x_train.reshape(x_train.shape[0], 28, 28, 1)\n",
        "x_test = x_test.reshape(x_test.shape[0], 28, 28, 1)\n",
        "input_shape = (28, 28, 1)\n",
        "\n",
        "# Normalize the data\n",
        "x_train = x_train.astype('float32') / 255\n",
        "x_test = x_test.astype('float32') / 255\n",
        "\n"
      ]
    },
    {
      "cell_type": "code",
      "execution_count": 14,
      "metadata": {
        "id": "ePIYV8xD2KW7"
      },
      "outputs": [],
      "source": [
        "\n",
        "# One-hot encode the labels\n",
        "num_classes = 10\n",
        "y_train = keras.utils.to_categorical(y_train, num_classes)\n",
        "y_test = keras.utils.to_categorical(y_test, num_classes)"
      ]
    },
    {
      "cell_type": "code",
      "execution_count": 15,
      "metadata": {
        "id": "kn2ExaKb1Q6V"
      },
      "outputs": [],
      "source": [
        "model = Sequential()\n",
        "\n",
        "# Convolution layer with 32 filters and 3x3 kernel size\n",
        "model.add(Conv2D(32, kernel_size=(3, 3), activation='relu', input_shape=input_shape))\n",
        "\n",
        "# Max pooling layer with 2x2 pool size\n",
        "model.add(MaxPooling2D(pool_size=(2, 2)))\n",
        "\n",
        "# Flatten layer\n",
        "model.add(Flatten())\n",
        "\n",
        "# Fully connected layer with 128 neurons\n",
        "model.add(Dense(128, activation='relu'))\n",
        "\n",
        "# Output layer with 10 neurons for 10 classes\n",
        "model.add(Dense(num_classes, activation='softmax'))\n"
      ]
    },
    {
      "cell_type": "code",
      "execution_count": 16,
      "metadata": {
        "id": "rjAwzi101TXa"
      },
      "outputs": [],
      "source": [
        "model.compile(loss='categorical_crossentropy', optimizer='adam', metrics=['accuracy'])\n"
      ]
    },
    {
      "cell_type": "code",
      "execution_count": 17,
      "metadata": {
        "colab": {
          "base_uri": "https://localhost:8080/"
        },
        "id": "dOhCOVdy1VA4",
        "outputId": "863fe382-d038-449a-9f4a-63e90073b2f5"
      },
      "outputs": [
        {
          "name": "stdout",
          "output_type": "stream",
          "text": [
            "Epoch 1/10\n",
            "469/469 [==============================] - 33s 67ms/step - loss: 0.2186 - accuracy: 0.9366 - val_loss: 0.0757 - val_accuracy: 0.9773\n",
            "Epoch 2/10\n",
            "469/469 [==============================] - 29s 62ms/step - loss: 0.0659 - accuracy: 0.9806 - val_loss: 0.0530 - val_accuracy: 0.9831\n",
            "Epoch 3/10\n",
            "469/469 [==============================] - 30s 65ms/step - loss: 0.0452 - accuracy: 0.9865 - val_loss: 0.0458 - val_accuracy: 0.9855\n",
            "Epoch 4/10\n",
            "469/469 [==============================] - 31s 66ms/step - loss: 0.0346 - accuracy: 0.9898 - val_loss: 0.0429 - val_accuracy: 0.9866\n",
            "Epoch 5/10\n",
            "469/469 [==============================] - 29s 63ms/step - loss: 0.0261 - accuracy: 0.9923 - val_loss: 0.0474 - val_accuracy: 0.9845\n",
            "Epoch 6/10\n",
            "469/469 [==============================] - 30s 65ms/step - loss: 0.0197 - accuracy: 0.9941 - val_loss: 0.0414 - val_accuracy: 0.9867\n",
            "Epoch 7/10\n",
            "469/469 [==============================] - 29s 62ms/step - loss: 0.0137 - accuracy: 0.9962 - val_loss: 0.0412 - val_accuracy: 0.9874\n",
            "Epoch 8/10\n",
            "469/469 [==============================] - 29s 63ms/step - loss: 0.0106 - accuracy: 0.9969 - val_loss: 0.0411 - val_accuracy: 0.9863\n",
            "Epoch 9/10\n",
            "469/469 [==============================] - 30s 65ms/step - loss: 0.0086 - accuracy: 0.9977 - val_loss: 0.0451 - val_accuracy: 0.9856\n",
            "Epoch 10/10\n",
            "469/469 [==============================] - 29s 62ms/step - loss: 0.0058 - accuracy: 0.9985 - val_loss: 0.0504 - val_accuracy: 0.9854\n",
            "Test loss: 0.05035177245736122\n",
            "Test accuracy: 0.9854000210762024\n"
          ]
        }
      ],
      "source": [
        "model.fit(x_train, y_train, epochs=10, batch_size=128, verbose=1, validation_data=(x_test, y_test))\n",
        "\n",
        "score = model.evaluate(x_test, y_test, verbose=0)\n",
        "print('Test loss:', score[0])\n",
        "print('Test accuracy:', score[1])\n"
      ]
    },
    {
      "cell_type": "code",
      "execution_count": null,
      "metadata": {
        "id": "MOoKL-LbDoCd"
      },
      "outputs": [],
      "source": [
        "# Test loss: 0.05035177245736122\n",
        "# Test accuracy: 0.9854000210762024\n"
      ]
    }
  ],
  "metadata": {
    "colab": {
      "provenance": []
    },
    "kernelspec": {
      "display_name": "Python 3",
      "name": "python3"
    },
    "language_info": {
      "name": "python"
    }
  },
  "nbformat": 4,
  "nbformat_minor": 0
}
